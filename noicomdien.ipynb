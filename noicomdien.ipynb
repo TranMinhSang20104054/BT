{
  "nbformat": 4,
  "nbformat_minor": 0,
  "metadata": {
    "colab": {
      "provenance": [],
      "collapsed_sections": [],
      "authorship_tag": "ABX9TyNhNgobnx4sm7HlNyC4N7F3",
      "include_colab_link": true
    },
    "kernelspec": {
      "name": "python3",
      "display_name": "Python 3"
    },
    "language_info": {
      "name": "python"
    }
  },
  "cells": [
    {
      "cell_type": "markdown",
      "metadata": {
        "id": "view-in-github",
        "colab_type": "text"
      },
      "source": [
        "<a href=\"https://colab.research.google.com/github/TranMinhSang20104054/BT/blob/main/noicomdien.ipynb\" target=\"_parent\"><img src=\"https://colab.research.google.com/assets/colab-badge.svg\" alt=\"Open In Colab\"/></a>"
      ]
    },
    {
      "cell_type": "code",
      "execution_count": null,
      "metadata": {
        "id": "4gP93NhttrSP"
      },
      "outputs": [],
      "source": [
        "pip install scikit-fuzzy"
      ]
    },
    {
      "cell_type": "code",
      "source": [
        "import numpy as np\n",
        "import skfuzzy as fuzz\n",
        "from skfuzzy import control as ctrl\n",
        "\n",
        "time=ctrl.Antecedent(np.arange(10,120,1),'time')\n",
        "rice = ctrl.Antecedent(np.arange(100,1000,1),'rice')\n",
        "power=ctrl.Consequent(np.arange(0,101,1),'power')\n",
        "\n",
        "time['15p']=fuzz.trimf(time.universe,[10,15,20])\n",
        "time['30p']=fuzz.trimf(time.universe,[15,30,40])\n",
        "time['60p']=fuzz.trimf(time.universe,[30,60,90])\n",
        "time['90p']=fuzz.trimf(time.universe,[60,90,120])\n",
        "time['120p']=fuzz.trimf(time.universe,[90,120,140])\n",
        "\n",
        "rice['2']=fuzz.trimf(rice.universe,[0,200,400])\n",
        "rice['4']=fuzz.trimf(rice.universe,[200,400,600])\n",
        "rice['6']=fuzz.trimf(rice.universe,[400,600,800])\n",
        "rice['8']=fuzz.trimf(rice.universe,[600,800,1000])\n",
        "rice['10']=fuzz.trimf(rice.universe,[800,1000,2000])\n",
        "\n",
        "power['Rất nhỏ'] = fuzz.trimf(power.universe,[0,0,20])\n",
        "power['nhỏ'] = fuzz.trimf(power.universe,[0,20,40])\n",
        "power['Trung bình'] = fuzz.trimf(power.universe,[40,60,80])\n",
        "power['lớn'] = fuzz.trimf(power.universe,[80,90,100])\n",
        "power['Rất lớn'] = fuzz.trimf(power.universe,[90,100,100])\n",
        "\n",
        "rule1=ctrl.Rule(time['15p']&rice['2'],power['Rất nhỏ'])\n",
        "rule2=ctrl.Rule(time['15p']&rice['4'],power['nhỏ'])\n",
        "rule3=ctrl.Rule(time['15p']&rice['6'],power['Trung bình'])\n",
        "rule4 =ctrl.Rule(time['15p']&rice['8'], power['Trung bình'])\n",
        "rule5=ctrl.Rule(time['15p']&rice['10'],power['lớn'])\n",
        "\n",
        "rule6=ctrl.Rule(time['30p']&rice['2'],power['Trung bình'])\n",
        "rule7=ctrl.Rule(time['30p']&rice['4'],power['Trung bình'])\n",
        "rule8=ctrl.Rule(time['30p']&rice['6'],power['lớn'])\n",
        "rule9=ctrl.Rule(time['30p']&rice['8'],power['Rất lớn'])\n",
        "rule10=ctrl.Rule(time['30p']&rice['10'],power['Rất lớn'])\n",
        "\n",
        "rule11=ctrl.Rule(time['60p']&rice['2'],power['Trung bình'])\n",
        "rule12=ctrl.Rule(time['60p']&rice['4'],power['Trung bình'])\n",
        "rule13=ctrl.Rule(time['60p']&rice['6'],power['lớn'])\n",
        "rule14=ctrl.Rule(time['60p']&rice['8'],power['lớn'])\n",
        "rule15=ctrl.Rule(time['60p']&rice['10'],power['Rất lớn'])\n",
        "\n",
        "rule16=ctrl.Rule(time['90p']&rice['2'],power['lớn'])\n",
        "rule17=ctrl.Rule(time['90p']&rice['4'],power['Trung bình'])\n",
        "rule18=ctrl.Rule(time['90p']&rice['6'],power['Rất lớn'])\n",
        "rule19=ctrl.Rule(time['90p']&rice['8'],power['Rất lớn'])\n",
        "rule20=ctrl.Rule(time['90p']&rice['10'],power['Rất lớn'])\n",
        "\n",
        "rule21=ctrl.Rule(time['120p']&rice['2'],power['lớn'])\n",
        "rule22=ctrl.Rule(time['120p']&rice['4'],power['Rất lớn'])\n",
        "rule23=ctrl.Rule(time['120p']&rice['6'],power['Rất lớn'])\n",
        "rule24=ctrl.Rule(time['120p']&rice['8'],power['Rất lớn'])\n",
        "rule25=ctrl.Rule(time['120p']&rice['10'],power['Rất lớn'])\n",
        "\n",
        "\n",
        "powering_ctrl = ctrl.ControlSystem([rule1,rule2,rule3,rule4,rule5,rule6,rule7,rule8,rule9,rule10,rule11,rule12,rule13,rule14,rule15,rule16,rule17,rule18,rule19,rule20,rule20,rule21,rule22,rule23,rule24,rule25])\n",
        "powering = ctrl.ControlSystemSimulation(powering_ctrl)\n",
        "\n",
        "powering.input['rice']=float(input(\"Nhập lượng gạo : \"))\n",
        "powering.input['time']=float(input(\"Nhập thời gian : \"))\n",
        "powering.compute()\n",
        "\n",
        "print(\"Công suất là: \" ,round((powering.output['power']),1),\"W\")\n",
        "\n",
        "power.view()\n",
        "time.view()\n",
        "rice.view()\n",
        "\n"
      ],
      "metadata": {
        "id": "5d1615f6t8iB"
      },
      "execution_count": null,
      "outputs": []
    }
  ]
}